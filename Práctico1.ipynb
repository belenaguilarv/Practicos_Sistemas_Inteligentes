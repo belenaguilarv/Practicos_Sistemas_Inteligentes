{
  "cells": [
    {
      "cell_type": "markdown",
      "id": "941e8954",
      "metadata": {
        "id": "941e8954"
      },
      "source": [
        "# Ejercicios de Tipos de Datos Simples\n",
        "\n",
        "0. Escribir un programa que muestre por pantalla la cadena ¡Hola Mundo!."
      ]
    },
    {
      "cell_type": "code",
      "execution_count": null,
      "id": "9bbc1fd7",
      "metadata": {
        "id": "9bbc1fd7",
        "colab": {
          "base_uri": "https://localhost:8080/"
        },
        "outputId": "38968ed1-2883-44c1-a388-f8013db76fbe"
      },
      "outputs": [
        {
          "output_type": "stream",
          "name": "stdout",
          "text": [
            "¡Hola Mundo!\n"
          ]
        }
      ],
      "source": [
        "print(\"¡Hola Mundo!\")"
      ]
    },
    {
      "cell_type": "markdown",
      "id": "f0519f5c",
      "metadata": {
        "id": "f0519f5c"
      },
      "source": [
        "1. Escribir un programa que pregunte el nombre del usuario en la consola y después de que el usuario lo introduzca muestre por pantalla la cadena ¡Hola <nombre>!, donde <nombre> es el nombre que el usuario haya introducido."
      ]
    },
    {
      "cell_type": "code",
      "execution_count": null,
      "id": "65f9ab97",
      "metadata": {
        "id": "65f9ab97",
        "colab": {
          "base_uri": "https://localhost:8080/"
        },
        "outputId": "279f2616-c7a7-4419-e962-a3cb25ae11e5"
      },
      "outputs": [
        {
          "output_type": "stream",
          "name": "stdout",
          "text": [
            "Cual es su nombre? Belu\n",
            "Hola Belu!\n"
          ]
        }
      ],
      "source": [
        "nombre = input(\"Cual es su nombre? \")\n",
        "print(\"Hola\", nombre + \"!\")"
      ]
    },
    {
      "cell_type": "markdown",
      "id": "4ba0fe88",
      "metadata": {
        "id": "4ba0fe88"
      },
      "source": [
        "2. Escribir un programa que pregunte al usuario por el número de horas trabajadas y el coste por hora. Después debe mostrar por pantalla la paga que le corresponde."
      ]
    },
    {
      "cell_type": "code",
      "execution_count": null,
      "id": "f5872dc8",
      "metadata": {
        "id": "f5872dc8",
        "colab": {
          "base_uri": "https://localhost:8080/"
        },
        "outputId": "abbe2eb5-aa88-46c0-d51a-9fcae54e3519"
      },
      "outputs": [
        {
          "output_type": "stream",
          "name": "stdout",
          "text": [
            "Ingrese la cantidad de horas trabajadas: 52\n",
            "Ingrese el costo por hora: 5695.3\n",
            "La paga que le corresponde por las 52.0 horas trabajadas es 296155.60000000003\n"
          ]
        }
      ],
      "source": [
        "worked_hours = float(input(\"Ingrese la cantidad de horas trabajadas: \"))\n",
        "cost_per_hour = float(input(\"Ingrese el costo por hora: \"))\n",
        "salary = worked_hours * cost_per_hour\n",
        "print(\"La paga que le corresponde por las\", worked_hours, \"horas trabajadas es\", salary, \"$\")\n"
      ]
    },
    {
      "cell_type": "markdown",
      "id": "e0c3c4b8",
      "metadata": {
        "id": "e0c3c4b8"
      },
      "source": [
        "3. Escribir un programa que lea un entero positivo, **n**, introducido por el usuario y después muestre en pantalla la suma de todos los enteros desde 1 hasta **n**. La suma de los **n** primeros enteros positivos puede ser calculada de la siguiente forma: $$ suma = \\frac{n(n+1)}{2}$$"
      ]
    },
    {
      "cell_type": "code",
      "execution_count": null,
      "id": "b65acefb",
      "metadata": {
        "id": "b65acefb",
        "colab": {
          "base_uri": "https://localhost:8080/"
        },
        "outputId": "0dc7f626-70c3-45b9-93cd-08138ff2086c"
      },
      "outputs": [
        {
          "output_type": "stream",
          "name": "stdout",
          "text": [
            "Ingrese un número positivo: -9\n",
            "El número debe ser positivo. Ingrese nuevamente.\n",
            "Ingrese un número positivo: 5\n",
            "La suma de los enteros desde 1 hasta 5 es: 15.0\n"
          ]
        }
      ],
      "source": [
        "n = None\n",
        "\n",
        "while n is None or n <= 0:\n",
        "    try:\n",
        "        n = int(input(\"Ingrese un número positivo: \"))\n",
        "        if n <= 0:\n",
        "            print(\"El número debe ser positivo. Ingrese nuevamente.\")\n",
        "    except ValueError:\n",
        "        print(\"Ingrese un número válido.\")\n",
        "\n",
        "suma = (n * (n + 1)) / 2\n",
        "print(\"La suma de los enteros desde 1 hasta\", n, \"es:\", suma)"
      ]
    },
    {
      "cell_type": "markdown",
      "id": "37474619",
      "metadata": {
        "id": "37474619"
      },
      "source": [
        "4. Escribir un programa que pregunte al usuario una cantidad a invertir, el interés anual y el número de años, y muestre por pantalla el capital obtenido en la inversión."
      ]
    },
    {
      "cell_type": "code",
      "execution_count": null,
      "id": "aa8524c9",
      "metadata": {
        "id": "aa8524c9",
        "colab": {
          "base_uri": "https://localhost:8080/"
        },
        "outputId": "b5a7bdbe-7452-4b8f-b1b1-d2688a4f28ae"
      },
      "outputs": [
        {
          "output_type": "stream",
          "name": "stdout",
          "text": [
            "Cuanto dinero desea invertir? 10000\n",
            "A que tasa de interés anual? 121\n",
            "A cuantos años? 2\n",
            "El capital obtenido en la inversión después de 2 años es: 48841.0 $\n"
          ]
        }
      ],
      "source": [
        "inversion = float(input(\"Cuanto dinero desea invertir? \"))\n",
        "interes_anual = float(input(\"A que tasa de interés anual? \"))\n",
        "anios = int(input(\"A cuantos años? \"))\n",
        "\n",
        "capital = inversion * (1 + interes_anual / 100) ** anios\n",
        "capital = round(capital,2)\n",
        "\n",
        "print(\"El capital obtenido en la inversión después de\", anios, \"años es:\", capital, \"$\")"
      ]
    },
    {
      "cell_type": "markdown",
      "id": "77758fb5",
      "metadata": {
        "id": "77758fb5"
      },
      "source": [
        "5. Una juguetería tiene mucho éxito en dos de sus productos: payasos y muñecas. Suele hacer venta por correo y la empresa de logística les cobra por peso de cada paquete así que deben calcular el peso de los payasos y muñecas que saldrán en cada paquete a demanda. Cada payaso pesa 112 g y cada muñeca 75 g. Escribir un programa que lea el número de payasos y muñecas vendidos en el último pedido y calcule el peso total del paquete que será enviado."
      ]
    },
    {
      "cell_type": "code",
      "execution_count": null,
      "id": "556a77e6",
      "metadata": {
        "id": "556a77e6",
        "colab": {
          "base_uri": "https://localhost:8080/"
        },
        "outputId": "ef301ce7-6e74-4430-e43f-c12c28ddca0f"
      },
      "outputs": [
        {
          "output_type": "stream",
          "name": "stdout",
          "text": [
            "¿Cuántos payasos vendió? 152\n",
            "¿Cuántas muñecas vendió? 4\n",
            "El peso total de los 152 payasos es: 17.024 kg\n",
            "El peso total de las 4 muñecas es: 300 g\n"
          ]
        }
      ],
      "source": [
        "weight_clown = 112\n",
        "weight_doll = 75\n",
        "\n",
        "def calcular_peso_total(num, peso_unit):\n",
        "    peso_total = num * peso_unit\n",
        "    if peso_total > 1000:\n",
        "        peso_total /= 1000\n",
        "        unidad = \"kg\"\n",
        "    else:\n",
        "        unidad = \"g\"\n",
        "    return peso_total, unidad\n",
        "\n",
        "num_clown = int(input(\"¿Cuántos payasos vendió? \"))\n",
        "num_doll = int(input(\"¿Cuántas muñecas vendió? \"))\n",
        "\n",
        "total_clown, unidad_clown = calcular_peso_total(num_clown, weight_clown)\n",
        "total_doll, unidad_doll = calcular_peso_total(num_doll, weight_doll)\n",
        "\n",
        "print(\"El peso total de los\", num_clown, \"payasos es:\", total_clown, unidad_clown)\n",
        "print(\"El peso total de las\", num_doll, \"muñecas es:\", total_doll, unidad_doll)"
      ]
    },
    {
      "cell_type": "markdown",
      "id": "9bd44acd",
      "metadata": {
        "id": "9bd44acd"
      },
      "source": [
        "6. Imagina que acabas de abrir una nueva cuenta de ahorros que te ofrece el 4% de interés al año. Estos ahorros debido a intereses, que no se cobran hasta finales de año, se te añaden al balance final de tu cuenta de ahorros. Escribir un programa que comience leyendo la cantidad de dinero depositada en la cuenta de ahorros, introducida por el usuario. Después el programa debe calcular y mostrar por pantalla la cantidad de ahorros tras el primer, segundo y tercer años. Redondear cada cantidad a dos decimales."
      ]
    },
    {
      "cell_type": "code",
      "execution_count": null,
      "id": "10766284",
      "metadata": {
        "id": "10766284",
        "colab": {
          "base_uri": "https://localhost:8080/"
        },
        "outputId": "a04f2e0d-7dfa-4219-92e8-df017ce9c3f7"
      },
      "outputs": [
        {
          "output_type": "stream",
          "name": "stdout",
          "text": [
            "Cuanto dinero tiene depositado en su cuenta? 500\n",
            "Los ahorros que tendrá despues del primer año son:  520.0  $\n",
            "Los ahorros que tendrá despues del segundo año son:  540.8  $\n",
            "Los ahorros que tendrá despues del tercer año son:  562.43  $\n"
          ]
        }
      ],
      "source": [
        "interes = 0.04\n",
        "\n",
        "dinero_cuenta = float(input(\"Cuanto dinero tiene depositado en su cuenta? \"))\n",
        "\n",
        "ahorro_anio_uno = round(dinero_cuenta * (1 + interes), 2)\n",
        "ahorro_anio_dos = round(ahorro_anio_uno * (1 + interes),2)\n",
        "ahorro_anio_tres = round(ahorro_anio_dos * (1 + interes),2)\n",
        "\n",
        "print(\"Los ahorros que tendrá despues del primer año son: \", ahorro_anio_uno, \" $\")\n",
        "print(\"Los ahorros que tendrá despues del segundo año son: \", ahorro_anio_dos, \" $\")\n",
        "print(\"Los ahorros que tendrá despues del tercer año son: \", ahorro_anio_tres, \" $\")"
      ]
    },
    {
      "cell_type": "markdown",
      "id": "6f64880a",
      "metadata": {
        "id": "6f64880a"
      },
      "source": [
        "7. Una panadería vende barras de pan a 3.49€ cada una. El pan que no es el día tiene un descuento del 60%. Escribir un programa que comience leyendo el número de barras vendidas que no son del día. Después el programa debe mostrar el precio habitual de una barra de pan, el descuento que se le hace por no ser fresca y el coste final total."
      ]
    },
    {
      "cell_type": "code",
      "execution_count": null,
      "id": "70e081d4",
      "metadata": {
        "id": "70e081d4",
        "colab": {
          "base_uri": "https://localhost:8080/"
        },
        "outputId": "e883c78a-cad7-4a6f-9450-0611988a2cff"
      },
      "outputs": [
        {
          "output_type": "stream",
          "name": "stdout",
          "text": [
            "Cuantas barras de pan que no son del día vendió? 20\n",
            "Bueno, el precio habitual del pan es  3.49 $. Le haremos un descuento del 60%, así que le queda en  27.92 $.\n"
          ]
        }
      ],
      "source": [
        "bread = 3.49\n",
        "discount = 0.6\n",
        "\n",
        "sold_bread = int(input(\"Cuantas barras de pan que no son del día vendió? \"))\n",
        "\n",
        "unit_price = bread * (1- discount)\n",
        "\n",
        "total = round(sold_bread * unit_price, 2)\n",
        "\n",
        "print(\"Bueno, el precio habitual del pan es \", bread, \"$. Le haremos un descuento del 60%, así que le queda en \", total, \"$.\")"
      ]
    },
    {
      "cell_type": "markdown",
      "id": "7746f986",
      "metadata": {
        "id": "7746f986"
      },
      "source": [
        "# Ejercicios de Condicionales\n",
        "\n",
        "0. Escribir un programa que pregunte al usuario su edad y muestre por pantalla si es mayor de edad o no."
      ]
    },
    {
      "cell_type": "code",
      "execution_count": null,
      "id": "1f904a9a",
      "metadata": {
        "id": "1f904a9a",
        "colab": {
          "base_uri": "https://localhost:8080/"
        },
        "outputId": "627e90a6-8d50-48d0-d52e-34d3672d1f5f"
      },
      "outputs": [
        {
          "output_type": "stream",
          "name": "stdout",
          "text": [
            "Cual es tu edad? -8\n",
            "Anota un valor válido. Cual es tu edad? 27\n",
            "Eres mayor de edad.\n"
          ]
        }
      ],
      "source": [
        "edad = input(\"Cual es tu edad? \")\n",
        "\n",
        "while not edad.isdigit() or int(edad) <= 0:\n",
        "    edad = input(\"Anota un valor válido. Cual es tu edad? \")\n",
        "\n",
        "edad = int(edad)\n",
        "\n",
        "if edad > 17:\n",
        "    print(\"Eres mayor de edad.\")\n",
        "else:\n",
        "    print(\"Eres menor de edad.\")"
      ]
    },
    {
      "cell_type": "markdown",
      "id": "ba028cf3",
      "metadata": {
        "id": "ba028cf3"
      },
      "source": [
        "1. En una determinada empresa, sus empleados son evaluados al final de cada año. Los puntos que pueden obtener en la evaluación comienzan en 0.0 y pueden ir aumentando, traduciéndose en mejores beneficios. Los puntos que pueden conseguir los empleados pueden ser 0.0, 0.4, 0.6 o más, pero no valores intermedios entre las cifras mencionadas. A continuación se muestra una tabla con los niveles correspondientes a cada puntuación. La cantidad de dinero conseguida en cada nivel es de 2.400€ multiplicada por la puntuación del nivel.\n",
        "\n",
        "| Nivel | Puntuación |\n",
        "| --- | --- |\n",
        "| Inaceptable | 0.0 |\n",
        "| Aceptable | 0.4 |\n",
        "| Meritorio | 0.6 o más |\n",
        "\n",
        "Escribir un programa que lea la puntuación del usuario e indique su nivel de rendimiento, así como la cantidad de dinero que recibirá el usuario."
      ]
    },
    {
      "cell_type": "code",
      "execution_count": null,
      "id": "46ba98d2",
      "metadata": {
        "id": "46ba98d2",
        "colab": {
          "base_uri": "https://localhost:8080/"
        },
        "outputId": "9e6a5e11-feba-4fdf-c8f6-7db20bdc1be3"
      },
      "outputs": [
        {
          "output_type": "stream",
          "name": "stdout",
          "text": [
            "Ingrese la puntuación que obtuvo el empleado: 0.4\n",
            "Nivel de rendimiento  Aceptable . La cantidad de dinero que recibirá es de  960.0 $\n"
          ]
        }
      ],
      "source": [
        "dinero = 2400\n",
        "puntuacion = float(input(\"Ingrese la puntuación que obtuvo el empleado: \"))\n",
        "\n",
        "if puntuacion == 0.0 :\n",
        "    nivel = \"Inaceptable\"\n",
        "    print(\"Nivel de rendimiento \", nivel, \"No goza de beneficios\")\n",
        "elif puntuacion == 0.4 :\n",
        "    nivel = \"Aceptable\"\n",
        "    premio = dinero * puntuacion\n",
        "    print(\"Nivel de rendimiento \", nivel, \". La cantidad de dinero que recibirá es de \", premio, \"$\")\n",
        "elif puntuacion >= 0.6:\n",
        "    nivel = \"Meritorio\"\n",
        "    premio = dinero * puntuacion\n",
        "    print(\"Nivel de rendimiento \", nivel, \". La cantidad de dinero que recibirá es de \", premio, \"$\")\n",
        "else:\n",
        "        print(\"Puntuación no válida. La puntuación debe ser 0.0, 0.4 o mayor que 0.6\")"
      ]
    },
    {
      "cell_type": "markdown",
      "id": "5ee09454",
      "metadata": {
        "id": "5ee09454"
      },
      "source": [
        "2. Escribir un programa para una empresa que tiene salas de juegos para todas las edades y quiere calcular de forma automática el precio que debe cobrar a sus clientes por entrar. El programa debe preguntar al usuario la edad del cliente y mostrar el precio de la entrada. Si el cliente es menor de 4 años puede entrar gratis, si tiene entre 4 y 18 años debe pagar 5€ y si es mayor de 18 años, 10€."
      ]
    },
    {
      "cell_type": "code",
      "execution_count": null,
      "id": "a0dc2457",
      "metadata": {
        "id": "a0dc2457",
        "colab": {
          "base_uri": "https://localhost:8080/"
        },
        "outputId": "8c8795e1-0ad9-4cf9-83c5-2a7ab96239cd"
      },
      "outputs": [
        {
          "output_type": "stream",
          "name": "stdout",
          "text": [
            "Ingrese la edad del cliente: 12\n",
            "Debe pagar 5$.\n"
          ]
        }
      ],
      "source": [
        "edad = int(input(\"Ingrese la edad del cliente: \"))\n",
        "\n",
        "if edad < 4:\n",
        "    print(\"Puede ingresar gratis.\")\n",
        "elif edad > 3 and edad < 19:\n",
        "    print(\"Debe pagar 5$.\")\n",
        "else:\n",
        "    print(\"Debe pagar 10$.\")"
      ]
    },
    {
      "cell_type": "markdown",
      "id": "6b1400f2",
      "metadata": {
        "id": "6b1400f2"
      },
      "source": [
        "3. La pizzería Bella Napoli ofrece pizzas vegetarianas y no vegetarianas a sus clientes. Los ingredientes para cada tipo de pizza aparecen a continuación.\n",
        "\n",
        "Ingredientes vegetarianos: Pimiento y tofu.\n",
        "Ingredientes no vegetarianos: Peperoni, Jamón y Salmón.\n",
        "Escribir un programa que pregunte al usuario si quiere una pizza vegetariana o no, y en función de su respuesta le muestre un menú con los ingredientes disponibles para que elija. Solo se puede eligir un ingrediente además de la mozzarella y el tomate que están en todas la pizzas. Al final se debe mostrar por pantalla si la pizza elegida es vegetariana o no y todos los ingredientes que lleva."
      ]
    },
    {
      "cell_type": "markdown",
      "id": "6a9c0c7b",
      "metadata": {
        "id": "6a9c0c7b"
      },
      "source": [
        "# Ejercicios de Bucles\n",
        "Realizar los ejercicios utilizando **for** y **while**\n",
        "\n",
        "0. Escribir un programa que pida al usuario una palabra y la muestre por pantalla 10 veces."
      ]
    },
    {
      "cell_type": "code",
      "execution_count": null,
      "id": "9f57d8d9",
      "metadata": {
        "id": "9f57d8d9",
        "colab": {
          "base_uri": "https://localhost:8080/"
        },
        "outputId": "a975a76d-b30f-4d21-9361-14dc76269bca"
      },
      "outputs": [
        {
          "output_type": "stream",
          "name": "stdout",
          "text": [
            "Ingrese una palabra: hola\n",
            "hola\n",
            "hola\n",
            "hola\n",
            "hola\n",
            "hola\n",
            "hola\n",
            "hola\n",
            "hola\n",
            "hola\n",
            "hola\n"
          ]
        }
      ],
      "source": [
        "word = input(\"Ingrese una palabra: \")\n",
        "\n",
        "for _ in range(10):\n",
        "    print(word)"
      ]
    },
    {
      "cell_type": "markdown",
      "id": "6f41451c",
      "metadata": {
        "id": "6f41451c"
      },
      "source": [
        "1. Escribir un programa que muestre por pantalla la tabla de multiplicar del 1 al 10."
      ]
    },
    {
      "cell_type": "code",
      "execution_count": null,
      "id": "67cd29cc",
      "metadata": {
        "id": "67cd29cc",
        "colab": {
          "base_uri": "https://localhost:8080/"
        },
        "outputId": "86164add-f007-4d44-ac1f-1fb65cec238d"
      },
      "outputs": [
        {
          "output_type": "stream",
          "name": "stdout",
          "text": [
            "1  x 10 =  10\n",
            "2  x 10 =  20\n",
            "3  x 10 =  30\n",
            "4  x 10 =  40\n",
            "5  x 10 =  50\n",
            "6  x 10 =  60\n",
            "7  x 10 =  70\n",
            "8  x 10 =  80\n",
            "9  x 10 =  90\n",
            "10  x 10 =  100\n"
          ]
        }
      ],
      "source": [
        "for i in range (1,11):\n",
        "    res = i * 10\n",
        "    print(i, \" x 10 = \", res)"
      ]
    },
    {
      "cell_type": "markdown",
      "id": "6dcbf56e",
      "metadata": {
        "id": "6dcbf56e"
      },
      "source": [
        "2. Escribir un programa en el que se pregunte al usuario por una frase y una letra, y muestre por pantalla el número de veces que aparece la letra en la frase."
      ]
    },
    {
      "cell_type": "code",
      "execution_count": null,
      "id": "250caf3f",
      "metadata": {
        "id": "250caf3f",
        "colab": {
          "base_uri": "https://localhost:8080/"
        },
        "outputId": "bd7f9708-3322-4ee4-a155-22dff0faea63"
      },
      "outputs": [
        {
          "output_type": "stream",
          "name": "stdout",
          "text": [
            "Ingrese una frase: Que haces Belen\n",
            "Ingrese una letra: e\n",
            "La cantidad de veces que  e  esta en ' Que haces Belen ' es:  4\n"
          ]
        }
      ],
      "source": [
        "frase = input(\"Ingrese una frase: \")\n",
        "letra = input(\"Ingrese una letra: \")\n",
        "c = 0\n",
        "for l in frase:\n",
        "    if l == letra:\n",
        "        c += 1\n",
        "print(\"La cantidad de veces que \", letra, \" esta en '\", frase, \"' es: \", c)"
      ]
    },
    {
      "cell_type": "markdown",
      "id": "437b4a42",
      "metadata": {
        "id": "437b4a42"
      },
      "source": [
        "\n",
        "\n",
        "```\n",
        "# Esto tiene formato de código\n",
        "```\n",
        "\n",
        "3. Escribir un programa que muestre el eco de todo lo que el usuario introduzca hasta que el usuario escriba “salir” que terminará."
      ]
    },
    {
      "cell_type": "markdown",
      "id": "21dc00dd",
      "metadata": {
        "id": "21dc00dd"
      },
      "source": [
        "# Ejercicios de Listas y Tuplas\n",
        "\n",
        "1. Escribir un programa que almacene las asignaturas de un curso (por ejemplo Matemáticas, Física, Química, Historia y Lengua) en una lista y la muestre por pantalla."
      ]
    },
    {
      "cell_type": "code",
      "execution_count": null,
      "id": "f9714c83",
      "metadata": {
        "id": "f9714c83",
        "colab": {
          "base_uri": "https://localhost:8080/"
        },
        "outputId": "d14f7384-6ddc-40e8-e3e9-96a6fa6e8eb4"
      },
      "outputs": [
        {
          "output_type": "stream",
          "name": "stdout",
          "text": [
            "Las asignaturas son: \n",
            "Matemáticas\n",
            "Física\n",
            "Química\n",
            "Historia\n",
            "Lengua\n"
          ]
        }
      ],
      "source": [
        "asignaturas = [\"Matemáticas\", \"Física\", \"Química\", \"Historia\", \"Lengua\"]\n",
        "\n",
        "print(\"Las asignaturas son: \")\n",
        "for asignatura in asignaturas:\n",
        "  print(asignatura)"
      ]
    },
    {
      "cell_type": "markdown",
      "id": "9dc8de65",
      "metadata": {
        "id": "9dc8de65"
      },
      "source": [
        "2. Escribir un programa que almacene las asignaturas de un curso (por ejemplo Matemáticas, Física, Química, Historia y Lengua) en una lista y la muestre por pantalla el mensaje Yo estudio <asignatura>, donde <asignatura> es cada una de las asignaturas de la lista."
      ]
    },
    {
      "cell_type": "code",
      "execution_count": null,
      "id": "7cff1152",
      "metadata": {
        "id": "7cff1152",
        "colab": {
          "base_uri": "https://localhost:8080/"
        },
        "outputId": "63cb3955-4860-4483-8b21-3edead250fab"
      },
      "outputs": [
        {
          "output_type": "stream",
          "name": "stdout",
          "text": [
            "Yo estudio  Matemáticas\n",
            "Yo estudio  Física\n",
            "Yo estudio  Química\n",
            "Yo estudio  Historia\n",
            "Yo estudio  Lengua\n"
          ]
        }
      ],
      "source": [
        "asignaturas = [\"Matemáticas\", \"Física\", \"Química\", \"Historia\", \"Lengua\"]\n",
        "\n",
        "for asignatura in asignaturas:\n",
        "  print(\"Yo estudio \",asignatura)"
      ]
    },
    {
      "cell_type": "markdown",
      "id": "f3160dad",
      "metadata": {
        "id": "f3160dad"
      },
      "source": [
        "3. Escribir un programa que almacene las asignaturas de un curso (por ejemplo Matemáticas, Física, Química, Historia y Lengua) en una lista, pregunte al usuario la nota que ha sacado en cada asignatura, y después las muestre por pantalla con el mensaje En <asignatura> has sacado <nota> donde <asignatura> es cada una des las asignaturas de la lista y <nota> cada una de las correspondientes notas introducidas por el usuario."
      ]
    },
    {
      "cell_type": "code",
      "execution_count": null,
      "id": "33826738",
      "metadata": {
        "id": "33826738",
        "colab": {
          "base_uri": "https://localhost:8080/"
        },
        "outputId": "3423aa32-2c35-4bd6-87f3-b5ee18068031"
      },
      "outputs": [
        {
          "output_type": "stream",
          "name": "stdout",
          "text": [
            "Que nota ha sacado en Matemáticas: 5\n",
            "Que nota ha sacado en Física: 6\n",
            "Que nota ha sacado en Química: 7\n",
            "Que nota ha sacado en Historia: 8\n",
            "Que nota ha sacado en Lengua: 9\n",
            "Materia:  Matemáticas  Nota:  5\n",
            "Materia:  Física  Nota:  6\n",
            "Materia:  Química  Nota:  7\n",
            "Materia:  Historia  Nota:  8\n",
            "Materia:  Lengua  Nota:  9\n"
          ]
        }
      ],
      "source": [
        "asignaturas = [\"Matemáticas\", \"Física\", \"Química\", \"Historia\", \"Lengua\"]\n",
        "notas = []\n",
        "\n",
        "for asignatura in asignaturas:\n",
        "  nota = input(\"Que nota ha sacado en \" + asignatura + \": \")\n",
        "  notas.append(nota)\n",
        "\n",
        "for i in range(len(asignaturas)):\n",
        "  print(\"Materia: \",asignaturas[i], \" Nota: \", nota[i])"
      ]
    },
    {
      "cell_type": "markdown",
      "id": "dd72817d",
      "metadata": {
        "id": "dd72817d"
      },
      "source": [
        "4. Escribir un programa que pregunte al usuario los números ganadores de la lotería primitiva, los almacene en una lista y los muestre por pantalla ordenados de menor a mayor."
      ]
    },
    {
      "cell_type": "code",
      "execution_count": null,
      "id": "625cb744",
      "metadata": {
        "id": "625cb744",
        "colab": {
          "base_uri": "https://localhost:8080/"
        },
        "outputId": "0c963bcc-1169-4962-da5a-922e3cdb8d4e"
      },
      "outputs": [
        {
          "output_type": "stream",
          "name": "stdout",
          "text": [
            "Ingrese los números ganadores de la lotería primitiva separados por espacio: 5 7 2 4 8 \n",
            "Números ganadores de la lotería primitiva ordenados de menor a mayor:\n",
            "2 4 5 7 8 "
          ]
        }
      ],
      "source": [
        "num = input(\"Ingrese los números ganadores de la lotería primitiva separados por espacio: \")\n",
        "\n",
        "lista = [int(numero) for numero in num.split()]\n",
        "\n",
        "lista.sort()\n",
        "\n",
        "print(\"Números ganadores de la lotería primitiva ordenados de menor a mayor:\")\n",
        "for numero in lista:\n",
        "    print(numero, end=\" \")\n"
      ]
    },
    {
      "cell_type": "markdown",
      "id": "f47179e6",
      "metadata": {
        "id": "f47179e6"
      },
      "source": [
        "\n",
        "\n",
        "```\n",
        "# Esto tiene formato de código\n",
        "```\n",
        "\n",
        "5. Escribir un programa que almacene en una lista los números del 1 al 10 y los muestre por pantalla en orden inverso separados por comas."
      ]
    },
    {
      "cell_type": "code",
      "execution_count": null,
      "id": "e6bc38f3",
      "metadata": {
        "id": "e6bc38f3",
        "colab": {
          "base_uri": "https://localhost:8080/"
        },
        "outputId": "2643e00c-eb01-4246-e32a-da8a1cbebeb9"
      },
      "outputs": [
        {
          "output_type": "stream",
          "name": "stdout",
          "text": [
            "10 9 8 7 6 5 4 3 2 1 "
          ]
        }
      ],
      "source": [
        "lista = [1, 2, 3, 4, 5, 6, 7, 8, 9, 10]\n",
        "\n",
        "for num in reversed(lista):\n",
        "  print(num, end=\" \")"
      ]
    },
    {
      "cell_type": "markdown",
      "id": "4ca73a38",
      "metadata": {
        "id": "4ca73a38"
      },
      "source": [
        "6. Escribir un programa que almacene las asignaturas de un curso (por ejemplo Matemáticas, Física, Química, Historia y Lengua) en una lista, pregunte al usuario la nota que ha sacado en cada asignatura y elimine de la lista las asignaturas aprobadas. Al final el programa debe mostrar por pantalla las asignaturas que el usuario tiene que repetir."
      ]
    },
    {
      "cell_type": "code",
      "execution_count": null,
      "id": "4bc0f050",
      "metadata": {
        "id": "4bc0f050",
        "colab": {
          "base_uri": "https://localhost:8080/"
        },
        "outputId": "e0e0764c-0f18-44c0-92ca-e70dad251b80"
      },
      "outputs": [
        {
          "output_type": "stream",
          "name": "stdout",
          "text": [
            "Que nota ha sacado en Matemáticas: 3\n",
            "Que nota ha sacado en Física: 7\n",
            "Que nota ha sacado en Química: 2\n",
            "Que nota ha sacado en Historia: 9\n",
            "Que nota ha sacado en Lengua: 7\n",
            "Tiene que repetir las siguientes materias: \n",
            "Matemáticas\n",
            "Química\n"
          ]
        }
      ],
      "source": [
        "asignaturas = [\"Matemáticas\", \"Física\", \"Química\", \"Historia\", \"Lengua\"]\n",
        "notas = []\n",
        "\n",
        "for asignatura in asignaturas:\n",
        "  nota = int(input(\"Que nota ha sacado en \" + asignatura + \": \"))\n",
        "  notas.append(nota)\n",
        "print(\"Tiene que repetir las siguientes materias: \")\n",
        "for i in range(len(asignaturas)):\n",
        "  if notas[i] < 4:\n",
        "    print(asignaturas[i])"
      ]
    },
    {
      "cell_type": "markdown",
      "id": "e422be26",
      "metadata": {
        "id": "e422be26"
      },
      "source": [
        "7. Escribir un programa que almacene el abecedario en una lista, elimine de la lista las letras que ocupen posiciones múltiplos de 3, y muestre por pantalla la lista resultante."
      ]
    },
    {
      "cell_type": "code",
      "execution_count": null,
      "id": "f99b3cab",
      "metadata": {
        "id": "f99b3cab",
        "colab": {
          "base_uri": "https://localhost:8080/"
        },
        "outputId": "2d94f472-49e0-476c-b0a3-4d6ef5f04f38"
      },
      "outputs": [
        {
          "output_type": "stream",
          "name": "stdout",
          "text": [
            "['a', 'b', 'd', 'e', 'g', 'h', 'j', 'k', 'm', 'n', 'p', 'q', 's', 't', 'v', 'w', 'y', 'z']\n"
          ]
        }
      ],
      "source": [
        "abecedario = list(\"abcdefghijklmnopqrstuvwxyz\")\n",
        "multiplos = [letra for indice, letra in enumerate(abecedario, start = 1) if indice % 3 != 0]\n",
        "\n",
        "print(multiplos)"
      ]
    },
    {
      "cell_type": "markdown",
      "id": "7b85561a",
      "metadata": {
        "id": "7b85561a"
      },
      "source": [
        "*8*. Escribir un programa que pida al usuario una palabra y muestre por pantalla si es un palíndromo."
      ]
    },
    {
      "cell_type": "code",
      "execution_count": null,
      "id": "afaba32d",
      "metadata": {
        "id": "afaba32d",
        "colab": {
          "base_uri": "https://localhost:8080/"
        },
        "outputId": "dd157b23-cd1c-4855-b58e-ec760fdd0cfb"
      },
      "outputs": [
        {
          "output_type": "stream",
          "name": "stdout",
          "text": [
            "Inserte una palabra: anita lava la tina\n",
            "La palabra anitalavalatina es un palíndromo.\n"
          ]
        }
      ],
      "source": [
        "palabra = input(\"Inserte una palabra: \").lower().replace(\" \", \"\")\n",
        "\n",
        "if palabra == palabra [::-1]:\n",
        "    print(\"La palabra\", palabra, \"es un palíndromo.\")\n",
        "else:\n",
        "    print(\"La palabra\", palabra, \"no es un palíndromo.\")\n"
      ]
    },
    {
      "cell_type": "markdown",
      "id": "9a53e8de",
      "metadata": {
        "id": "9a53e8de"
      },
      "source": [
        "9. Escribir un programa que pida al usuario una palabra y muestre por pantalla el número de veces que contiene cada vocal."
      ]
    },
    {
      "cell_type": "code",
      "execution_count": null,
      "id": "b1dfc2e7",
      "metadata": {
        "id": "b1dfc2e7",
        "colab": {
          "base_uri": "https://localhost:8080/"
        },
        "outputId": "198128fd-a7aa-4abb-becb-34da3bc4273a"
      },
      "outputs": [
        {
          "output_type": "stream",
          "name": "stdout",
          "text": [
            "Inserte una palabra: belen\n",
            "La cantidad de veces que se repite la letra a es:  0\n",
            "La cantidad de veces que se repite la letra e es:  2\n",
            "La cantidad de veces que se repite la letra i es:  0\n",
            "La cantidad de veces que se repite la letra o es:  0\n",
            "La cantidad de veces que se repite la letra u es:  0\n"
          ]
        }
      ],
      "source": [
        "from os import execvpe\n",
        "palabra = input(\"Inserte una palabra: \")\n",
        "a = 0\n",
        "e = 0\n",
        "i = 0\n",
        "o = 0\n",
        "u = 0\n",
        "\n",
        "for letra in palabra:\n",
        "  if letra == \"a\":\n",
        "    a+=1\n",
        "  elif letra == \"e\":\n",
        "    e+=1\n",
        "  elif letra == \"i\":\n",
        "    i+=1\n",
        "  elif letra == \"o\":\n",
        "    o+=1\n",
        "  elif letra == \"u\":\n",
        "    u+=1\n",
        "print(\"La cantidad de veces que se repite la letra a es: \", a)\n",
        "print(\"La cantidad de veces que se repite la letra e es: \", e)\n",
        "print(\"La cantidad de veces que se repite la letra i es: \", i)\n",
        "print(\"La cantidad de veces que se repite la letra o es: \", o)\n",
        "print(\"La cantidad de veces que se repite la letra u es: \", u)"
      ]
    },
    {
      "cell_type": "markdown",
      "id": "55cdccd9",
      "metadata": {
        "id": "55cdccd9"
      },
      "source": [
        "10. Escribir un programa que almacene en una lista los siguientes precios, 50, 75, 46, 22, 80, 65, 8, y muestre por pantalla el menor y el mayor de los precios."
      ]
    },
    {
      "cell_type": "code",
      "execution_count": null,
      "id": "9451e30c",
      "metadata": {
        "id": "9451e30c",
        "colab": {
          "base_uri": "https://localhost:8080/"
        },
        "outputId": "1af30984-8897-4117-ba4b-332cd5a1f791"
      },
      "outputs": [
        {
          "output_type": "stream",
          "name": "stdout",
          "text": [
            "El precio menor es:  8\n",
            "El precio mayor es:  80\n"
          ]
        }
      ],
      "source": [
        "lista = [50, 75, 46, 22, 80, 65, 8]\n",
        "print(\"El precio menor es: \", min(lista))\n",
        "print(\"El precio mayor es: \", max(lista))"
      ]
    },
    {
      "cell_type": "markdown",
      "id": "8032a13d",
      "metadata": {
        "id": "8032a13d"
      },
      "source": [
        "11. Escribir un programa que almacene los vectores (1,2,3) y (-1,0,2) en dos listas y muestre por pantalla su producto escalar."
      ]
    },
    {
      "cell_type": "code",
      "execution_count": null,
      "id": "7f82d37a",
      "metadata": {
        "id": "7f82d37a",
        "colab": {
          "base_uri": "https://localhost:8080/"
        },
        "outputId": "9d0f7aa7-736f-411e-f35e-80e9facaadce"
      },
      "outputs": [
        {
          "output_type": "stream",
          "name": "stdout",
          "text": [
            "5\n"
          ]
        }
      ],
      "source": [
        "u = (1,2,3)\n",
        "v = (-1,0,2)\n",
        "print(sum(u1 * v1 for u1, v1 in zip(u,v)))"
      ]
    },
    {
      "cell_type": "markdown",
      "id": "350472f1",
      "metadata": {
        "id": "350472f1"
      },
      "source": [
        "12. Escribir un programa que almacene las matrices\n",
        "$$ A =\\left(\\begin{array}{cc}\n",
        "1 & 2 & 3\\\\\n",
        "4 & 5 & 6\n",
        "\\end{array}\\right)\n",
        "B = \\left(\\begin{array}{cc}\n",
        "-1 & 0\\\\\n",
        "0 & 1\\\\\n",
        "1 & 1\n",
        "\\end{array}\\right)\n",
        "$$\n",
        "en una lista y muestre por pantalla su producto.\n",
        "Nota: Para representar matrices mediante listas usar listas anidadas, representando cada vector fila en una lista."
      ]
    },
    {
      "cell_type": "code",
      "execution_count": null,
      "id": "8d318963",
      "metadata": {
        "id": "8d318963",
        "colab": {
          "base_uri": "https://localhost:8080/"
        },
        "outputId": "c70b5aa6-cef5-48eb-ccfe-2a90b522a066"
      },
      "outputs": [
        {
          "output_type": "stream",
          "name": "stdout",
          "text": [
            "El producto de las matrices es:\n",
            "[2, 5]\n",
            "[2, 11]\n"
          ]
        }
      ],
      "source": [
        "a = [[1,2,3], [4,5,6]]\n",
        "b = [[-1,0], [0,1], [1,1]]\n",
        "\n",
        "def producto(matriz_a, matriz_b):\n",
        "  filas_a = len(matriz_a)\n",
        "  filas_b = len(matriz_b)\n",
        "  colum_a = len(matriz_a[0])\n",
        "  colum_b = len(matriz_b[0])\n",
        "\n",
        "  if colum_b != filas_a: return \"Matrices incompatibles\"\n",
        "\n",
        "  resultado = [[0] * colum_b for _ in range(filas_a)]\n",
        "\n",
        "  for i in range(filas_a):\n",
        "    for j in range(colum_b):\n",
        "      for k in range(filas_b):\n",
        "        resultado[i][j] += matriz_a[i][k] * matriz_b[k][j]\n",
        "  return resultado\n",
        "\n",
        "print(\"El producto de las matrices es:\")\n",
        "for fila in producto(a,b):\n",
        "    print(fila)\n",
        "\n"
      ]
    },
    {
      "cell_type": "markdown",
      "id": "d3871ff8",
      "metadata": {
        "id": "d3871ff8"
      },
      "source": [
        "13. Escribir un programa que pregunte por una muestra de números, separados por comas, los guarde en una lista y muestre por pantalla su media y desviación típica."
      ]
    },
    {
      "cell_type": "code",
      "source": [
        "import math\n",
        "\n",
        "muestra = input(\"Ingrese una muestra de numeros separados por comas: \")\n",
        "\n",
        "lista = [float(numero) for numero in muestra.split(',')]\n",
        "\n",
        "media = sum(lista) / len(lista)\n",
        "print ( \"La media es \", media)\n",
        "\n",
        "suma = sum((x - media) ** 2 for x in lista)\n",
        "print(\"La desviacion tipica es: \", math.sqrt(suma / len(lista)))"
      ],
      "metadata": {
        "colab": {
          "base_uri": "https://localhost:8080/"
        },
        "id": "qZmEdA1uSTId",
        "outputId": "a58085fe-066f-413d-a54f-08537729dbb7"
      },
      "id": "qZmEdA1uSTId",
      "execution_count": null,
      "outputs": [
        {
          "output_type": "stream",
          "name": "stdout",
          "text": [
            "Ingrese una muestra de numeros separados por comas: 3,6,2,5,9\n",
            "La media es  5.0\n",
            "La desviacion tipica es:  2.449489742783178\n"
          ]
        }
      ]
    },
    {
      "cell_type": "markdown",
      "id": "27fa0945",
      "metadata": {
        "id": "27fa0945"
      },
      "source": [
        "# Ejercicios de Diccionarios\n",
        "\n",
        "1. Escribir un programa que guarde en una variable el diccionario `{'Euro':'€', 'Dollar':'$', 'Yen':'¥'}`, pregunte al usuario por una divisa y muestre su símbolo o un mensaje de aviso si la divisa no está en el diccionario.\n",
        "\n",
        "\n",
        "2. Escribir un programa que guarde en un diccionario los precios de las frutas de la tabla, pregunte al usuario por una fruta, un número de kilos y muestre por pantalla el precio de ese número de kilos de fruta. Si la fruta no está en el diccionario debe mostrar un mensaje informando de ello.\n",
        "\n",
        "| Fruta | Precio |\n",
        "| --- | --- |\n",
        "| Plátano | 1.35 |\n",
        "| Manzana | 0.80 |\n",
        "| Pera | 0.85 |\n",
        "| Naranja | 0.70 |"
      ]
    },
    {
      "cell_type": "code",
      "source": [
        "diccionario = {'Euro':'€', 'Dollar':'$', 'Yen':'¥'}\n",
        "\n",
        "divisa = input(\"Ingrese una divisa: \")\n",
        "if divisa in diccionario:\n",
        "  print(\"El símbolo de\", divisa, \"es:\", diccionario[divisa])\n",
        "else:\n",
        "  print(\"El símbolo de\", divisa, \" no esta en el diccionario\")\n",
        "\n",
        "\n",
        "\n",
        "\n",
        "productos = {'platano' : 1.35, 'manzana' : 0.8, 'pera' : 0.85, 'naranja' : 0.7}\n",
        "\n",
        "fruta = input(\"Que fruta desea comprar? \")\n",
        "if not fruta.lower() in productos:\n",
        "  print(\"No tenemos \", fruta)\n",
        "else:\n",
        "  kilos = float(input(\"Cuantos kilos desea comprar? \"))\n",
        "  print(\"El total a pagar por los \", kilos, \" de \",productos[fruta], \" es: \", round(kilos * productos[fruta.lower()],2))\n",
        "\n"
      ],
      "metadata": {
        "colab": {
          "base_uri": "https://localhost:8080/"
        },
        "id": "4jIjfEk0SQnR",
        "outputId": "f12e5f4b-0848-4a84-c879-2ac5eaedb34a"
      },
      "id": "4jIjfEk0SQnR",
      "execution_count": null,
      "outputs": [
        {
          "output_type": "stream",
          "name": "stdout",
          "text": [
            "Ingrese una divisa: $\n",
            "El símbolo de $  no esta en el diccionario\n",
            "Que fruta desea comprar? manzana\n",
            "Cuantos kilos desea comprar? 9\n",
            "El total a pagar por los  9.0  de  0.8  es:  7.2\n"
          ]
        }
      ]
    },
    {
      "cell_type": "markdown",
      "id": "6b9f8757",
      "metadata": {
        "id": "6b9f8757"
      },
      "source": [
        "3. Escribir un programa que cree un diccionario vacío y lo vaya llenado con información sobre una persona (por ejemplo nombre, edad, sexo, teléfono, correo electrónico, etc.) que se le pida al usuario. Cada vez que se añada un nuevo dato debe imprimirse el contenido del diccionario."
      ]
    },
    {
      "cell_type": "code",
      "source": [
        "persona = {} #diccionario vacio\n",
        "\n",
        "print(\"Que informacion deseas agregar?\")\n",
        "while True:\n",
        "  print(\"1. Nombre\")\n",
        "  print(\"2. Edad\")\n",
        "  print(\"3. Sexo\")\n",
        "  print(\"4. Teléfono\")\n",
        "  print(\"5. Correo electrónico\")\n",
        "  print(\"6. Salir\")\n",
        "  opcion = input(\"Ingrese el numero de la opcion: \")\n",
        "\n",
        "  if opcion == \"1\":\n",
        "      nombre = input(\"Ingrese el nombre: \")\n",
        "      persona[\"Nombre\"] = nombre\n",
        "  elif opcion == \"2\":\n",
        "      edad = input(\"Ingrese la edad: \")\n",
        "      persona[\"Edad\"] = edad\n",
        "  elif opcion == \"3\":\n",
        "      sexo = input(\"Ingrese el sexo: \")\n",
        "      persona[\"Sexo\"] = sexo\n",
        "  elif opcion == \"4\":\n",
        "      telefono = input(\"Ingrese el teléfono: \")\n",
        "      persona[\"Teléfono\"] = telefono\n",
        "  elif opcion == \"5\":\n",
        "      correo = input(\"Ingrese el correo electrónico: \")\n",
        "      persona[\"Correo electrónico\"] = correo\n",
        "  elif opcion == \"6\":\n",
        "      print(\"Salio exitosamente.\")\n",
        "      break\n",
        "  else:\n",
        "      print(\"Opción no válida. Por favor, ingrese un número del 1 al 6.\")\n",
        "\n",
        "  print(\"Información actual de la persona:\")\n",
        "  for clave, valor in persona.items():\n",
        "      print(clave + \":\", valor)\n"
      ],
      "metadata": {
        "colab": {
          "base_uri": "https://localhost:8080/"
        },
        "id": "z583m-ndSXp4",
        "outputId": "edb2d0e0-f8cd-4bd5-cc70-adc97e35ced3"
      },
      "id": "z583m-ndSXp4",
      "execution_count": null,
      "outputs": [
        {
          "output_type": "stream",
          "name": "stdout",
          "text": [
            "Que informacion deseas agregar?\n",
            "1. Nombre\n",
            "2. Edad\n",
            "3. Sexo\n",
            "4. Teléfono\n",
            "5. Correo electrónico\n",
            "6. Salir\n",
            "Ingrese el numero de la opcion: 1\n",
            "Ingrese el nombre: Belu\n",
            "Información actual de la persona:\n",
            "Nombre: Belu\n",
            "1. Nombre\n",
            "2. Edad\n",
            "3. Sexo\n",
            "4. Teléfono\n",
            "5. Correo electrónico\n",
            "6. Salir\n",
            "Ingrese el numero de la opcion: 6\n",
            "Salio exitosamente.\n"
          ]
        }
      ]
    },
    {
      "cell_type": "markdown",
      "id": "846125b8",
      "metadata": {
        "id": "846125b8"
      },
      "source": [
        "4. Escribir un programa que gestione las facturas pendientes de cobro de una empresa. Las facturas se almacenarán en un diccionario donde la clave de cada factura será el número de factura y el valor el coste de la factura. El programa debe preguntar al usuario si quiere añadir una nueva factura, pagar una existente o terminar. Si desea añadir una nueva factura se preguntará por el número de factura y su coste y se añadirá al diccionario. Si se desea pagar una factura se preguntará por el número de factura y se eliminará del diccionario. Después de cada operación el programa debe mostrar por pantalla la cantidad cobrada hasta el momento y la cantidad pendiente de cobro."
      ]
    },
    {
      "cell_type": "code",
      "source": [
        "facturas = {}\n",
        "\n",
        "def mostrar_estado():\n",
        "    total_pendiente = sum([valor for valor in facturas.values() if valor >= 0])\n",
        "    print(\"Cantidad pendiente de cobro:\", total_pendiente)\n",
        "\n",
        "\n",
        "def agregar_factura(clave, valor):\n",
        "  facturas[clave] = valor\n",
        "  print(\"Factura agregada\")\n",
        "\n",
        "def pagar_factura(clave):\n",
        "  if clave in facturas:\n",
        "    del facturas[clave]\n",
        "    print(\"Factura pagada\")\n",
        "  else:\n",
        "    print(\"El numero de factura no existe\")\n",
        "\n",
        "print(\"Que operación desea realizar?\")\n",
        "while True:\n",
        "  print(\"1. Agregar factura\")\n",
        "  print(\"2. Pagar factura\")\n",
        "  print(\"3. Salir\")\n",
        "\n",
        "  opcion = input(\"Ingrese el numero de la opcion: \")\n",
        "\n",
        "  if opcion == \"1\":\n",
        "    clave = input(\"Ingrese el número de factura: \")\n",
        "    valor = int(input(\"Ingrese el coste de la factura: \"))\n",
        "    agregar_factura(clave, valor)\n",
        "    mostrar_estado()\n",
        "\n",
        "  elif opcion == \"2\":\n",
        "    clave = input(\"Ingrese el número de factura: \")\n",
        "    pagar_factura(clave)\n",
        "    mostrar_estado()\n",
        "\n",
        "  elif opcion == \"3\":\n",
        "    print(\"Salio exitosamente.\")\n",
        "    break\n",
        "\n",
        "  else:\n",
        "    print(\"Opción no válida. Por favor, ingrese un número del 1 al 3.\")\n"
      ],
      "metadata": {
        "id": "FcEjA_m9SYcv",
        "colab": {
          "base_uri": "https://localhost:8080/"
        },
        "outputId": "c4535453-1f66-4c5f-dd45-7e3e40d6eefd"
      },
      "id": "FcEjA_m9SYcv",
      "execution_count": null,
      "outputs": [
        {
          "output_type": "stream",
          "name": "stdout",
          "text": [
            "Que operación desea realizar?\n",
            "1. Agregar factura\n",
            "2. Pagar factura\n",
            "3. Salir\n",
            "Ingrese el numero de la opcion: 1\n",
            "Ingrese el número de factura: 001\n",
            "Ingrese el coste de la factura: 5000\n",
            "Factura agregada\n",
            "Cantidad pendiente de cobro: 5000\n",
            "1. Agregar factura\n",
            "2. Pagar factura\n",
            "3. Salir\n",
            "Ingrese el numero de la opcion: 1\n",
            "Ingrese el número de factura: 6000\n",
            "Ingrese el coste de la factura: 6000\n",
            "Factura agregada\n",
            "Cantidad pendiente de cobro: 11000\n",
            "1. Agregar factura\n",
            "2. Pagar factura\n",
            "3. Salir\n",
            "Ingrese el numero de la opcion: 2\n",
            "Ingrese el número de factura: 001\n",
            "Factura pagada\n",
            "Cantidad pendiente de cobro: 6000\n",
            "1. Agregar factura\n",
            "2. Pagar factura\n",
            "3. Salir\n",
            "Ingrese el numero de la opcion: 3\n",
            "Salio exitosamente.\n"
          ]
        }
      ]
    },
    {
      "cell_type": "markdown",
      "id": "375ac7fc",
      "metadata": {
        "id": "375ac7fc"
      },
      "source": [
        "5. El directorio de los clientes de una empresa está organizado en una cadena de texto como la de más abajo, donde cada línea contiene la información del nombre, email, teléfono, nif, y el descuento que se le aplica. Las líneas se separan con el carácter de cambio de línea \\n y la primera línea contiene los nombres de los campos con la información contenida en el directorio.\n",
        "\n",
        "`\"nif;nombre;email;teléfono;descuento\\n01234567L;Luis González;luisgonzalez@mail.com;656343576;12.5\\n71476342J;Macarena Ramírez;macarena@mail.com;692839321;8\\n63823376M;Juan José Martínez;juanjo@mail.com;664888233;5.2\\n98376547F;Carmen Sánchez;carmen@mail.com;667677855;15.7\"`\n",
        "\n",
        "Escribir un programa que genere un diccionario con la información del directorio, donde cada elemento corresponda a un cliente y tenga por clave su nif y por valor otro diccionario con el resto de la información del cliente. Los diccionarios con la información de cada cliente tendrán como claves los nombres de los campos y como valores la información de cada cliente correspondientes a los campos. Es decir, un diccionario como el siguiente\n",
        "\n",
        "`{'01234567L': {'nombre': 'Luis González', 'email': 'luisgonzalez@mail.com', 'teléfono': '656343576', 'descuento': 12.5}, '71476342J': {'nombre': 'Macarena Ramírez', 'email': 'macarena@mail.com', 'teléfono': '692839321', 'descuento': 8.0}, '63823376M': {'nombre': 'Juan José Martínez', 'email': 'juanjo@mail.com', 'teléfono': '664888233', 'descuento': 5.2}, '98376547F': {'nombre': 'Carmen Sánchez', 'email': 'carmen@mail.com', 'teléfono': '667677855', 'descuento': 15.7}}`"
      ]
    },
    {
      "cell_type": "code",
      "source": [
        "diccionario = (\"nif;nombre;email;teléfono;descuento\\n\"\n",
        "              \"01234567L;Luis González;luisgonzalez@mail.com;656343576;12.5\\n\"\n",
        "              \"71476342J;Macarena Ramírez;macarena@mail.com;692839321;8\\n\"\n",
        "              \"63823376M;Juan José Martínez;juanjo@mail.com;664888233;5.2\\n\"\n",
        "              \"98376547F;Carmen Sánchez;carmen@mail.com;667677855;15.7\")\n",
        "\n",
        "clientes = {} # acá voy a guardar toda la info bien ordenada\n",
        "\n",
        "lineas = diccionario.split('\\n')\n",
        "campos = lineas[0].split(';')\n",
        "\n",
        "for linea in lineas[1:]:\n",
        "    datos = linea.split(';')\n",
        "    cliente = {}\n",
        "    for i in range(len(campos)):\n",
        "        cliente[campos[i]] = datos[i]\n",
        "    clientes[datos[0]] = cliente\n",
        "\n",
        "print(clientes)\n"
      ],
      "metadata": {
        "id": "SldfFPvcSbJk",
        "colab": {
          "base_uri": "https://localhost:8080/"
        },
        "outputId": "434398e0-f9c1-43e2-f1cc-8633d736d1bb"
      },
      "id": "SldfFPvcSbJk",
      "execution_count": null,
      "outputs": [
        {
          "output_type": "stream",
          "name": "stdout",
          "text": [
            "{'01234567L': {'nif': '01234567L', 'nombre': 'Luis González', 'email': 'luisgonzalez@mail.com', 'teléfono': '656343576', 'descuento': '12.5'}, '71476342J': {'nif': '71476342J', 'nombre': 'Macarena Ramírez', 'email': 'macarena@mail.com', 'teléfono': '692839321', 'descuento': '8'}, '63823376M': {'nif': '63823376M', 'nombre': 'Juan José Martínez', 'email': 'juanjo@mail.com', 'teléfono': '664888233', 'descuento': '5.2'}, '98376547F': {'nif': '98376547F', 'nombre': 'Carmen Sánchez', 'email': 'carmen@mail.com', 'teléfono': '667677855', 'descuento': '15.7'}}\n"
          ]
        }
      ]
    },
    {
      "cell_type": "markdown",
      "id": "63e74656",
      "metadata": {
        "id": "63e74656"
      },
      "source": [
        "# Ejercicios de Funciones\n",
        "1. Escribir una función a la que se le pase una cadena `<nombre>` y muestre por pantalla el saludo ¡hola `<nombre>`!."
      ]
    },
    {
      "cell_type": "code",
      "execution_count": null,
      "id": "2dd2c638",
      "metadata": {
        "id": "2dd2c638",
        "colab": {
          "base_uri": "https://localhost:8080/"
        },
        "outputId": "6d91358a-edd3-47d9-cf64-5340849e3d12"
      },
      "outputs": [
        {
          "output_type": "stream",
          "name": "stdout",
          "text": [
            "Ingresa tu nombre: Belu\n",
            "Hola Belu!\n"
          ]
        }
      ],
      "source": [
        "def saludar(nombre):\n",
        "  print(\"Hola\", nombre + \"!\")\n",
        "\n",
        "nombre = input(\"Ingresa tu nombre: \")\n",
        "saludar(nombre)"
      ]
    },
    {
      "cell_type": "markdown",
      "id": "722b0a26",
      "metadata": {
        "id": "722b0a26"
      },
      "source": [
        "\n",
        "\n",
        "```\n",
        "# Esto tiene formato de código\n",
        "```\n",
        "\n",
        "2. Escribir una función que reciba un número entero positivo y devuelva su factorial."
      ]
    },
    {
      "cell_type": "code",
      "execution_count": null,
      "id": "4267cf24",
      "metadata": {
        "id": "4267cf24",
        "colab": {
          "base_uri": "https://localhost:8080/"
        },
        "outputId": "edf83afe-43e9-426d-8f26-c951d98cf0f1"
      },
      "outputs": [
        {
          "output_type": "stream",
          "name": "stdout",
          "text": [
            "Ingrese un numero positivo: 5\n",
            "El factorial de 5 es: 120\n"
          ]
        }
      ],
      "source": [
        "def factorial(n):\n",
        "    if n == 0:\n",
        "        return 1\n",
        "    else:\n",
        "        return n * factorial(n - 1)\n",
        "\n",
        "numero = int(input(\"Ingrese un numero positivo: \"))\n",
        "print(\"El factorial de\", numero, \"es:\", factorial(numero))\n"
      ]
    },
    {
      "cell_type": "markdown",
      "id": "47d396f8",
      "metadata": {
        "id": "47d396f8"
      },
      "source": [
        "3. Escribir una función que calcule el total de una factura tras aplicarle el IVA. La función debe recibir la cantidad sin IVA y el porcentaje de IVA a aplicar, y devolver el total de la factura. Si se invoca la función sin pasarle el porcentaje de IVA, deberá aplicar un 21%."
      ]
    },
    {
      "cell_type": "code",
      "execution_count": null,
      "id": "5b1d3403",
      "metadata": {
        "id": "5b1d3403",
        "colab": {
          "base_uri": "https://localhost:8080/"
        },
        "outputId": "aa182b17-f165-41e3-f553-d5a9068bf0ac"
      },
      "outputs": [
        {
          "name": "stdout",
          "output_type": "stream",
          "text": [
            "Ingrese la cantidad: 100\n",
            "Ingrese el porcentaje de IVA (opcional): 5\n"
          ]
        },
        {
          "output_type": "execute_result",
          "data": {
            "text/plain": [
              "105.0"
            ]
          },
          "metadata": {},
          "execution_count": 20
        }
      ],
      "source": [
        "def total_factura(cantidad, iva = None):\n",
        "  cantidad = float(cantidad)\n",
        "  if iva is None or iva == \"\":\n",
        "    iva = 21\n",
        "  else:\n",
        "    iva = float(iva)\n",
        "  total = cantidad * (1 + iva / 100)\n",
        "  return total\n",
        "\n",
        "cantidad = input(\"Ingrese la cantidad: \")\n",
        "iva = input(\"Ingrese el porcentaje de IVA (opcional): \")\n",
        "\n",
        "total_factura(cantidad, iva)"
      ]
    },
    {
      "cell_type": "markdown",
      "id": "2adda5aa",
      "metadata": {
        "id": "2adda5aa"
      },
      "source": [
        "4. Escribir una función que calcule el área de un círculo y otra que calcule el volumen de un cilindro usando la primera función."
      ]
    },
    {
      "cell_type": "code",
      "execution_count": null,
      "id": "1ea2788a",
      "metadata": {
        "id": "1ea2788a",
        "colab": {
          "base_uri": "https://localhost:8080/"
        },
        "outputId": "2117ea9e-3ee4-4bbf-adc4-579b86a8a6e9"
      },
      "outputs": [
        {
          "output_type": "stream",
          "name": "stdout",
          "text": [
            "Ingrese el radio del circulo: 4\n",
            "Ingrese la altura del cilindro: 5.26\n",
            "El area del circulo es  50.27\n",
            "El volumen del cilindro es  264.4\n"
          ]
        }
      ],
      "source": [
        "import math\n",
        "\n",
        "def area_circulo(radio):\n",
        "  return math.pi * radio ** 2\n",
        "\n",
        "def volumen_cilindro(radio, altura):\n",
        "  base = area_circulo(radio)\n",
        "  return base * altura\n",
        "\n",
        "radio = float(input(\"Ingrese el radio del circulo: \"))\n",
        "altura = float(input(\"Ingrese la altura del cilindro: \"))\n",
        "\n",
        "print(\"El area del circulo es \", round(area_circulo(radio),2))\n",
        "print(\"El volumen del cilindro es \", round(volumen_cilindro(radio, altura),2))"
      ]
    },
    {
      "cell_type": "markdown",
      "id": "8399cb23",
      "metadata": {
        "id": "8399cb23"
      },
      "source": [
        "5. Escribir una función que reciba una muestra de números en una lista y devuelva su media."
      ]
    },
    {
      "cell_type": "code",
      "execution_count": null,
      "id": "cf3fa76b",
      "metadata": {
        "id": "cf3fa76b",
        "colab": {
          "base_uri": "https://localhost:8080/"
        },
        "outputId": "abb28fe2-87a5-4fe3-ec18-732ac82bce4c"
      },
      "outputs": [
        {
          "output_type": "stream",
          "name": "stdout",
          "text": [
            "Ingrese una muestra de numeros separados por comas: 9,8,2,5,4,7,3,6,1,32\n",
            "La media de la muestra es:  7.7\n"
          ]
        }
      ],
      "source": [
        "def media(lista):\n",
        "  return sum(lista) / len(lista)\n",
        "\n",
        "muestra = input(\"Ingrese una muestra de numeros separados por comas: \")\n",
        "\n",
        "lista = [float(numero) for numero in muestra.split(',')]\n",
        "\n",
        "print(\"La media de la muestra es: \", round(media(lista),2))"
      ]
    },
    {
      "cell_type": "markdown",
      "id": "0549988a",
      "metadata": {
        "id": "0549988a"
      },
      "source": [
        "6. Escribir una función que reciba una muestra de números en una lista y devuelva otra lista con sus cuadrados."
      ]
    },
    {
      "cell_type": "code",
      "execution_count": null,
      "id": "296a235c",
      "metadata": {
        "id": "296a235c",
        "colab": {
          "base_uri": "https://localhost:8080/"
        },
        "outputId": "d2fa2615-da1e-491d-dc98-a9a0e25534cd"
      },
      "outputs": [
        {
          "output_type": "stream",
          "name": "stdout",
          "text": [
            "Ingrese una muestra de numeros separados por comas: 3,4,7,2,9,6\n",
            "Los numeros de la lista elevados al cuadrados dan:  [9, 16, 49, 4, 81, 36]\n"
          ]
        }
      ],
      "source": [
        "def cuadrado(lista):\n",
        "  lista_cuadrados = []\n",
        "\n",
        "  for num in lista:\n",
        "    cuadrado = num ** 2\n",
        "    lista_cuadrados.append(cuadrado)\n",
        "\n",
        "  return lista_cuadrados\n",
        "\n",
        "muestra = input(\"Ingrese una muestra de numeros separados por comas: \")\n",
        "lista = [int(numero) for numero in muestra.split(',')]\n",
        "\n",
        "print(\"Los numeros de la lista elevados al cuadrados dan: \", cuadrado(lista))\n",
        "\n"
      ]
    },
    {
      "cell_type": "markdown",
      "id": "957f415a",
      "metadata": {
        "id": "957f415a"
      },
      "source": [
        "7. Escribir una función que reciba una muestra de números en una lista y devuelva un diccionario con su media, varianza y desviación típica."
      ]
    },
    {
      "cell_type": "code",
      "execution_count": null,
      "id": "7d18dd65",
      "metadata": {
        "id": "7d18dd65",
        "colab": {
          "base_uri": "https://localhost:8080/"
        },
        "outputId": "e6f12c47-f70b-4687-ba64-050149b8b9ba"
      },
      "outputs": [
        {
          "output_type": "stream",
          "name": "stdout",
          "text": [
            "Ingrese una muestra de numeros separados por comas: 3,6,4,9\n",
            "Media: 5.5\n",
            "Varianza: 7.0\n",
            "Desviación típica: 2.6457513110645907\n"
          ]
        }
      ],
      "source": [
        "import math\n",
        "\n",
        "def media_varianza_desviacion(lista):\n",
        "  media = sum(lista) / len(lista)\n",
        "\n",
        "  diferencia_cuadrados = sum((x - media) ** 2 for x in lista)\n",
        "  varianza = diferencia_cuadrados / (len(lista) - 1)\n",
        "\n",
        "  desviacion = varianza ** 0.5\n",
        "\n",
        "  resultados = {'media': media, 'varianza': varianza, 'desviacion': desviacion}\n",
        "\n",
        "  return resultados\n",
        "\n",
        "\n",
        "muestra = input(\"Ingrese una muestra de numeros separados por comas: \")\n",
        "lista = [float(numero) for numero in muestra.split(',')]\n",
        "\n",
        "resultados = media_varianza_desviacion(lista)\n",
        "\n",
        "print(\"Media:\", resultados['media'])\n",
        "print(\"Varianza:\", resultados['varianza'])\n",
        "print(\"Desviación típica:\", resultados['desviacion'])\n"
      ]
    },
    {
      "cell_type": "markdown",
      "id": "a398d9f2",
      "metadata": {
        "id": "a398d9f2"
      },
      "source": [
        "8. Escribir una función que calcule el máximo común divisor de dos números y otra que calcule el mínimo común múltiplo."
      ]
    },
    {
      "cell_type": "code",
      "execution_count": null,
      "id": "5d4145e8",
      "metadata": {
        "id": "5d4145e8",
        "colab": {
          "base_uri": "https://localhost:8080/"
        },
        "outputId": "78fe6358-5a22-4f23-94bc-b5948bea28ac"
      },
      "outputs": [
        {
          "output_type": "stream",
          "name": "stdout",
          "text": [
            "Máximo común divisor: 6\n",
            "Mínimo común múltiplo: 36\n"
          ]
        }
      ],
      "source": [
        "def maximo_comun_divisor(a, b):\n",
        "    while b:\n",
        "        a, b = b, a % b\n",
        "    return a\n",
        "\n",
        "def minimo_comun_multiplo(a, b):\n",
        "    return (a * b) // maximo_comun_divisor(a, b)\n",
        "\n",
        "a = 12\n",
        "b = 18\n",
        "print(\"Máximo común divisor:\", maximo_comun_divisor(a, b))\n",
        "print(\"Mínimo común múltiplo:\", minimo_comun_multiplo(a, b))\n"
      ]
    },
    {
      "cell_type": "markdown",
      "id": "dd92251a",
      "metadata": {
        "id": "dd92251a"
      },
      "source": [
        "9. Escribir una función que convierta un número decimal en binario y otra que convierta un número binario en decimal."
      ]
    },
    {
      "cell_type": "code",
      "execution_count": null,
      "id": "65361ad8",
      "metadata": {
        "id": "65361ad8",
        "colab": {
          "base_uri": "https://localhost:8080/"
        },
        "outputId": "8902f7ee-fb1a-43a4-c22d-d605469c7dd8"
      },
      "outputs": [
        {
          "output_type": "stream",
          "name": "stdout",
          "text": [
            "Número decimal: 25\n",
            "Número binario: 11001\n",
            "Número binario: 11001\n",
            "Número decimal: 25\n"
          ]
        }
      ],
      "source": [
        "def decimal_a_binario(num):\n",
        "    if num == 0:\n",
        "        return '0'\n",
        "    bin = ''\n",
        "    while num > 0:\n",
        "        resto = num % 2\n",
        "        bin = str(resto) + bin\n",
        "        num //= 2\n",
        "    return bin\n",
        "\n",
        "def binario_a_decimal(bin):\n",
        "    dec = 0\n",
        "    longitud = len(bin)\n",
        "    for i in range(longitud):\n",
        "        if bin[i] == '1':\n",
        "            dec += 2 ** (longitud - i - 1)\n",
        "    return dec\n",
        "\n",
        "decimal = 25\n",
        "binario = '11001'\n",
        "\n",
        "print(\"Número decimal:\", decimal)\n",
        "print(\"Número binario:\", decimal_a_binario(decimal))\n",
        "print(\"Número binario:\", binario)\n",
        "print(\"Número decimal:\", binario_a_decimal(binario))\n",
        "\n"
      ]
    },
    {
      "cell_type": "markdown",
      "id": "31f0a4da",
      "metadata": {
        "id": "31f0a4da"
      },
      "source": [
        "10. Escribir un programa que reciba una cadena de caracteres y devuelva un diccionario con cada palabra que contiene y su frecuencia. Escribir otra función que reciba el diccionario generado con la función anterior y devuelva una tupla con la palabra más repetida y su frecuencia."
      ]
    },
    {
      "cell_type": "code",
      "execution_count": null,
      "id": "01eb5cd3",
      "metadata": {
        "id": "01eb5cd3",
        "colab": {
          "base_uri": "https://localhost:8080/"
        },
        "outputId": "3ba2b2d6-48ba-4e19-e1d2-12b9c508fdf0"
      },
      "outputs": [
        {
          "output_type": "stream",
          "name": "stdout",
          "text": [
            "Frecuencia de palabras: {'probando': 1, 'la': 3, 'cadena': 1, 'de': 3, 'prueba': 1, 'lista': 1, 'hoy': 1}\n",
            "Palabra más repetida: la\n",
            "Frecuencia: 3\n"
          ]
        }
      ],
      "source": [
        "def contador(cadena):\n",
        "    palabras = cadena.split()\n",
        "    frecuencia = {}\n",
        "    for palabra in palabras:\n",
        "        frecuencia[palabra] = frecuencia.get(palabra, 0) + 1\n",
        "    return frecuencia\n",
        "\n",
        "def mas_repetida(frecuencia):\n",
        "    max_frecuencia = 0\n",
        "    palabra_max = None\n",
        "    for palabra, freq in frecuencia.items():\n",
        "        if freq > max_frecuencia:\n",
        "            max_frecuencia = freq\n",
        "            palabra_max = palabra\n",
        "    return (palabra_max, max_frecuencia)\n",
        "\n",
        "cadena = \"probando la cadena de la prueba de la lista de hoy\"\n",
        "frecuencia = contador(cadena)\n",
        "print(\"Frecuencia de palabras:\", frecuencia)\n",
        "\n",
        "palabra_max, max_frecuencia = mas_repetida(frecuencia)\n",
        "print(\"Palabra más repetida:\", palabra_max)\n",
        "print(\"Frecuencia:\", max_frecuencia)\n"
      ]
    }
  ],
  "metadata": {
    "kernelspec": {
      "display_name": "Python 3 (ipykernel)",
      "language": "python",
      "name": "python3"
    },
    "language_info": {
      "codemirror_mode": {
        "name": "ipython",
        "version": 3
      },
      "file_extension": ".py",
      "mimetype": "text/x-python",
      "name": "python",
      "nbconvert_exporter": "python",
      "pygments_lexer": "ipython3",
      "version": "3.9.12"
    },
    "colab": {
      "provenance": []
    }
  },
  "nbformat": 4,
  "nbformat_minor": 5
}